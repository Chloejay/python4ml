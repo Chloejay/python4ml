{
 "cells": [
  {
   "cell_type": "markdown",
   "metadata": {},
   "source": [
    "# Collaborative Filtering model on MovieLens"
   ]
  },
  {
   "cell_type": "markdown",
   "metadata": {},
   "source": [
    "Download the 20m [movielens dataset](http://files.grouplens.org/datasets/movielens/ml-20m.zip)"
   ]
  },
  {
   "cell_type": "markdown",
   "metadata": {},
   "source": [
    "You can use the aria2c or wget to download"
   ]
  },
  {
   "cell_type": "code",
   "execution_count": 1,
   "metadata": {
    "collapsed": true
   },
   "outputs": [],
   "source": [
    "# %cd /data\n",
    "# !!aria2c -x5 http://files.grouplens.org/datasets/movielens/ml-20m.zip\n",
    "# !!unzip ml-20m.zip"
   ]
  },
  {
   "cell_type": "code",
   "execution_count": 2,
   "metadata": {
    "collapsed": true
   },
   "outputs": [],
   "source": [
    "import pandas as pd\n",
    "import numpy as np\n",
    "import os\n",
    "import torch\n",
    "from p3self.matchbox import Trainer"
   ]
  },
  {
   "cell_type": "code",
   "execution_count": 3,
   "metadata": {
    "collapsed": true
   },
   "outputs": [],
   "source": [
    "DATA = \"/data/ml-20m/\"\n",
    "BS = 2000\n",
    "DIM = 50\n",
    "CUDA = torch.cuda.is_available()"
   ]
  },
  {
   "cell_type": "code",
   "execution_count": 4,
   "metadata": {},
   "outputs": [
    {
     "data": {
      "text/plain": [
       "['genome-scores.csv',\n",
       " 'genome-tags.csv',\n",
       " 'links.csv',\n",
       " 'movies.csv',\n",
       " 'ratings.csv',\n",
       " 'README.txt',\n",
       " 'tags.csv']"
      ]
     },
     "execution_count": 4,
     "metadata": {},
     "output_type": "execute_result"
    }
   ],
   "source": [
    "files = os.listdir(DATA)\n",
    "files"
   ]
  },
  {
   "cell_type": "code",
   "execution_count": 5,
   "metadata": {},
   "outputs": [],
   "source": [
    "data = dict()\n",
    "for f in files:\n",
    "    if f[-3:]==\"csv\":\n",
    "        data[f.split(\".\")[0]] = pd.read_csv(DATA+f)"
   ]
  },
  {
   "cell_type": "markdown",
   "metadata": {},
   "source": [
    "### Check Data"
   ]
  },
  {
   "cell_type": "code",
   "execution_count": 6,
   "metadata": {},
   "outputs": [
    {
     "data": {
      "text/plain": [
       "'genome-scores'"
      ]
     },
     "metadata": {},
     "output_type": "display_data"
    },
    {
     "data": {
      "text/html": [
       "<div>\n",
       "<style scoped>\n",
       "    .dataframe tbody tr th:only-of-type {\n",
       "        vertical-align: middle;\n",
       "    }\n",
       "\n",
       "    .dataframe tbody tr th {\n",
       "        vertical-align: top;\n",
       "    }\n",
       "\n",
       "    .dataframe thead th {\n",
       "        text-align: right;\n",
       "    }\n",
       "</style>\n",
       "<table border=\"1\" class=\"dataframe\">\n",
       "  <thead>\n",
       "    <tr style=\"text-align: right;\">\n",
       "      <th></th>\n",
       "      <th>movieId</th>\n",
       "      <th>tagId</th>\n",
       "      <th>relevance</th>\n",
       "    </tr>\n",
       "  </thead>\n",
       "  <tbody>\n",
       "    <tr>\n",
       "      <th>6101408</th>\n",
       "      <td>6325</td>\n",
       "      <td>57</td>\n",
       "      <td>0.01350</td>\n",
       "    </tr>\n",
       "    <tr>\n",
       "      <th>5329477</th>\n",
       "      <td>5368</td>\n",
       "      <td>806</td>\n",
       "      <td>0.31725</td>\n",
       "    </tr>\n",
       "    <tr>\n",
       "      <th>101458</th>\n",
       "      <td>92</td>\n",
       "      <td>1067</td>\n",
       "      <td>0.01950</td>\n",
       "    </tr>\n",
       "    <tr>\n",
       "      <th>3344844</th>\n",
       "      <td>3360</td>\n",
       "      <td>325</td>\n",
       "      <td>0.10775</td>\n",
       "    </tr>\n",
       "    <tr>\n",
       "      <th>10081264</th>\n",
       "      <td>73431</td>\n",
       "      <td>329</td>\n",
       "      <td>0.03800</td>\n",
       "    </tr>\n",
       "  </tbody>\n",
       "</table>\n",
       "</div>"
      ],
      "text/plain": [
       "          movieId  tagId  relevance\n",
       "6101408      6325     57    0.01350\n",
       "5329477      5368    806    0.31725\n",
       "101458         92   1067    0.01950\n",
       "3344844      3360    325    0.10775\n",
       "10081264    73431    329    0.03800"
      ]
     },
     "metadata": {},
     "output_type": "display_data"
    },
    {
     "data": {
      "text/plain": [
       "'genome-tags'"
      ]
     },
     "metadata": {},
     "output_type": "display_data"
    },
    {
     "data": {
      "text/html": [
       "<div>\n",
       "<style scoped>\n",
       "    .dataframe tbody tr th:only-of-type {\n",
       "        vertical-align: middle;\n",
       "    }\n",
       "\n",
       "    .dataframe tbody tr th {\n",
       "        vertical-align: top;\n",
       "    }\n",
       "\n",
       "    .dataframe thead th {\n",
       "        text-align: right;\n",
       "    }\n",
       "</style>\n",
       "<table border=\"1\" class=\"dataframe\">\n",
       "  <thead>\n",
       "    <tr style=\"text-align: right;\">\n",
       "      <th></th>\n",
       "      <th>tagId</th>\n",
       "      <th>tag</th>\n",
       "    </tr>\n",
       "  </thead>\n",
       "  <tbody>\n",
       "    <tr>\n",
       "      <th>391</th>\n",
       "      <td>392</td>\n",
       "      <td>figure skating</td>\n",
       "    </tr>\n",
       "    <tr>\n",
       "      <th>558</th>\n",
       "      <td>559</td>\n",
       "      <td>iran</td>\n",
       "    </tr>\n",
       "    <tr>\n",
       "      <th>460</th>\n",
       "      <td>461</td>\n",
       "      <td>graphic design</td>\n",
       "    </tr>\n",
       "    <tr>\n",
       "      <th>33</th>\n",
       "      <td>34</td>\n",
       "      <td>africa</td>\n",
       "    </tr>\n",
       "    <tr>\n",
       "      <th>373</th>\n",
       "      <td>374</td>\n",
       "      <td>family</td>\n",
       "    </tr>\n",
       "  </tbody>\n",
       "</table>\n",
       "</div>"
      ],
      "text/plain": [
       "     tagId             tag\n",
       "391    392  figure skating\n",
       "558    559            iran\n",
       "460    461  graphic design\n",
       "33      34          africa\n",
       "373    374          family"
      ]
     },
     "metadata": {},
     "output_type": "display_data"
    },
    {
     "data": {
      "text/plain": [
       "'links'"
      ]
     },
     "metadata": {},
     "output_type": "display_data"
    },
    {
     "data": {
      "text/html": [
       "<div>\n",
       "<style scoped>\n",
       "    .dataframe tbody tr th:only-of-type {\n",
       "        vertical-align: middle;\n",
       "    }\n",
       "\n",
       "    .dataframe tbody tr th {\n",
       "        vertical-align: top;\n",
       "    }\n",
       "\n",
       "    .dataframe thead th {\n",
       "        text-align: right;\n",
       "    }\n",
       "</style>\n",
       "<table border=\"1\" class=\"dataframe\">\n",
       "  <thead>\n",
       "    <tr style=\"text-align: right;\">\n",
       "      <th></th>\n",
       "      <th>movieId</th>\n",
       "      <th>imdbId</th>\n",
       "      <th>tmdbId</th>\n",
       "    </tr>\n",
       "  </thead>\n",
       "  <tbody>\n",
       "    <tr>\n",
       "      <th>1672</th>\n",
       "      <td>1732</td>\n",
       "      <td>118715</td>\n",
       "      <td>115.0</td>\n",
       "    </tr>\n",
       "    <tr>\n",
       "      <th>19829</th>\n",
       "      <td>97966</td>\n",
       "      <td>1438173</td>\n",
       "      <td>118957.0</td>\n",
       "    </tr>\n",
       "    <tr>\n",
       "      <th>24655</th>\n",
       "      <td>116602</td>\n",
       "      <td>106763</td>\n",
       "      <td>57789.0</td>\n",
       "    </tr>\n",
       "    <tr>\n",
       "      <th>8003</th>\n",
       "      <td>8686</td>\n",
       "      <td>59470</td>\n",
       "      <td>42737.0</td>\n",
       "    </tr>\n",
       "    <tr>\n",
       "      <th>13260</th>\n",
       "      <td>64957</td>\n",
       "      <td>421715</td>\n",
       "      <td>4922.0</td>\n",
       "    </tr>\n",
       "  </tbody>\n",
       "</table>\n",
       "</div>"
      ],
      "text/plain": [
       "       movieId   imdbId    tmdbId\n",
       "1672      1732   118715     115.0\n",
       "19829    97966  1438173  118957.0\n",
       "24655   116602   106763   57789.0\n",
       "8003      8686    59470   42737.0\n",
       "13260    64957   421715    4922.0"
      ]
     },
     "metadata": {},
     "output_type": "display_data"
    },
    {
     "data": {
      "text/plain": [
       "'movies'"
      ]
     },
     "metadata": {},
     "output_type": "display_data"
    },
    {
     "data": {
      "text/html": [
       "<div>\n",
       "<style scoped>\n",
       "    .dataframe tbody tr th:only-of-type {\n",
       "        vertical-align: middle;\n",
       "    }\n",
       "\n",
       "    .dataframe tbody tr th {\n",
       "        vertical-align: top;\n",
       "    }\n",
       "\n",
       "    .dataframe thead th {\n",
       "        text-align: right;\n",
       "    }\n",
       "</style>\n",
       "<table border=\"1\" class=\"dataframe\">\n",
       "  <thead>\n",
       "    <tr style=\"text-align: right;\">\n",
       "      <th></th>\n",
       "      <th>movieId</th>\n",
       "      <th>title</th>\n",
       "      <th>genres</th>\n",
       "    </tr>\n",
       "  </thead>\n",
       "  <tbody>\n",
       "    <tr>\n",
       "      <th>4457</th>\n",
       "      <td>4552</td>\n",
       "      <td>Tetsuo, the Ironman (Tetsuo) (1988)</td>\n",
       "      <td>Action|Horror|Sci-Fi|Thriller</td>\n",
       "    </tr>\n",
       "    <tr>\n",
       "      <th>24746</th>\n",
       "      <td>116947</td>\n",
       "      <td>Stand Off (2012)</td>\n",
       "      <td>Comedy|Drama</td>\n",
       "    </tr>\n",
       "    <tr>\n",
       "      <th>20518</th>\n",
       "      <td>100487</td>\n",
       "      <td>Beautiful Creatures (2013)</td>\n",
       "      <td>Drama|Fantasy|Romance</td>\n",
       "    </tr>\n",
       "    <tr>\n",
       "      <th>24093</th>\n",
       "      <td>114242</td>\n",
       "      <td>Sharknado 2: The Second One (2014)</td>\n",
       "      <td>Horror|Sci-Fi|Thriller</td>\n",
       "    </tr>\n",
       "    <tr>\n",
       "      <th>15442</th>\n",
       "      <td>78696</td>\n",
       "      <td>Moment After 2, The: The Awakening (2006)</td>\n",
       "      <td>Drama|Sci-Fi|Thriller</td>\n",
       "    </tr>\n",
       "  </tbody>\n",
       "</table>\n",
       "</div>"
      ],
      "text/plain": [
       "       movieId                                      title  \\\n",
       "4457      4552        Tetsuo, the Ironman (Tetsuo) (1988)   \n",
       "24746   116947                           Stand Off (2012)   \n",
       "20518   100487                 Beautiful Creatures (2013)   \n",
       "24093   114242         Sharknado 2: The Second One (2014)   \n",
       "15442    78696  Moment After 2, The: The Awakening (2006)   \n",
       "\n",
       "                              genres  \n",
       "4457   Action|Horror|Sci-Fi|Thriller  \n",
       "24746                   Comedy|Drama  \n",
       "20518          Drama|Fantasy|Romance  \n",
       "24093         Horror|Sci-Fi|Thriller  \n",
       "15442          Drama|Sci-Fi|Thriller  "
      ]
     },
     "metadata": {},
     "output_type": "display_data"
    },
    {
     "data": {
      "text/plain": [
       "'ratings'"
      ]
     },
     "metadata": {},
     "output_type": "display_data"
    },
    {
     "data": {
      "text/html": [
       "<div>\n",
       "<style scoped>\n",
       "    .dataframe tbody tr th:only-of-type {\n",
       "        vertical-align: middle;\n",
       "    }\n",
       "\n",
       "    .dataframe tbody tr th {\n",
       "        vertical-align: top;\n",
       "    }\n",
       "\n",
       "    .dataframe thead th {\n",
       "        text-align: right;\n",
       "    }\n",
       "</style>\n",
       "<table border=\"1\" class=\"dataframe\">\n",
       "  <thead>\n",
       "    <tr style=\"text-align: right;\">\n",
       "      <th></th>\n",
       "      <th>userId</th>\n",
       "      <th>movieId</th>\n",
       "      <th>rating</th>\n",
       "      <th>timestamp</th>\n",
       "    </tr>\n",
       "  </thead>\n",
       "  <tbody>\n",
       "    <tr>\n",
       "      <th>4850205</th>\n",
       "      <td>33344</td>\n",
       "      <td>247</td>\n",
       "      <td>4.0</td>\n",
       "      <td>974700982</td>\n",
       "    </tr>\n",
       "    <tr>\n",
       "      <th>10647891</th>\n",
       "      <td>73686</td>\n",
       "      <td>367</td>\n",
       "      <td>1.5</td>\n",
       "      <td>1135953524</td>\n",
       "    </tr>\n",
       "    <tr>\n",
       "      <th>15585267</th>\n",
       "      <td>107769</td>\n",
       "      <td>4713</td>\n",
       "      <td>3.0</td>\n",
       "      <td>1265650675</td>\n",
       "    </tr>\n",
       "    <tr>\n",
       "      <th>791647</th>\n",
       "      <td>5284</td>\n",
       "      <td>3176</td>\n",
       "      <td>4.0</td>\n",
       "      <td>1215019568</td>\n",
       "    </tr>\n",
       "    <tr>\n",
       "      <th>18428692</th>\n",
       "      <td>127548</td>\n",
       "      <td>1635</td>\n",
       "      <td>4.5</td>\n",
       "      <td>1101762672</td>\n",
       "    </tr>\n",
       "  </tbody>\n",
       "</table>\n",
       "</div>"
      ],
      "text/plain": [
       "          userId  movieId  rating   timestamp\n",
       "4850205    33344      247     4.0   974700982\n",
       "10647891   73686      367     1.5  1135953524\n",
       "15585267  107769     4713     3.0  1265650675\n",
       "791647      5284     3176     4.0  1215019568\n",
       "18428692  127548     1635     4.5  1101762672"
      ]
     },
     "metadata": {},
     "output_type": "display_data"
    },
    {
     "data": {
      "text/plain": [
       "'tags'"
      ]
     },
     "metadata": {},
     "output_type": "display_data"
    },
    {
     "data": {
      "text/html": [
       "<div>\n",
       "<style scoped>\n",
       "    .dataframe tbody tr th:only-of-type {\n",
       "        vertical-align: middle;\n",
       "    }\n",
       "\n",
       "    .dataframe tbody tr th {\n",
       "        vertical-align: top;\n",
       "    }\n",
       "\n",
       "    .dataframe thead th {\n",
       "        text-align: right;\n",
       "    }\n",
       "</style>\n",
       "<table border=\"1\" class=\"dataframe\">\n",
       "  <thead>\n",
       "    <tr style=\"text-align: right;\">\n",
       "      <th></th>\n",
       "      <th>userId</th>\n",
       "      <th>movieId</th>\n",
       "      <th>tag</th>\n",
       "      <th>timestamp</th>\n",
       "    </tr>\n",
       "  </thead>\n",
       "  <tbody>\n",
       "    <tr>\n",
       "      <th>342001</th>\n",
       "      <td>103379</td>\n",
       "      <td>1193</td>\n",
       "      <td>depressing</td>\n",
       "      <td>1338750737</td>\n",
       "    </tr>\n",
       "    <tr>\n",
       "      <th>152693</th>\n",
       "      <td>43354</td>\n",
       "      <td>1173</td>\n",
       "      <td>stylized</td>\n",
       "      <td>1290553289</td>\n",
       "    </tr>\n",
       "    <tr>\n",
       "      <th>92345</th>\n",
       "      <td>23364</td>\n",
       "      <td>1027</td>\n",
       "      <td>romance</td>\n",
       "      <td>1315150995</td>\n",
       "    </tr>\n",
       "    <tr>\n",
       "      <th>4113</th>\n",
       "      <td>1678</td>\n",
       "      <td>4326</td>\n",
       "      <td>racism</td>\n",
       "      <td>1413310959</td>\n",
       "    </tr>\n",
       "    <tr>\n",
       "      <th>219107</th>\n",
       "      <td>66455</td>\n",
       "      <td>60469</td>\n",
       "      <td>Christianity</td>\n",
       "      <td>1301559053</td>\n",
       "    </tr>\n",
       "  </tbody>\n",
       "</table>\n",
       "</div>"
      ],
      "text/plain": [
       "        userId  movieId           tag   timestamp\n",
       "342001  103379     1193    depressing  1338750737\n",
       "152693   43354     1173      stylized  1290553289\n",
       "92345    23364     1027       romance  1315150995\n",
       "4113      1678     4326        racism  1413310959\n",
       "219107   66455    60469  Christianity  1301559053"
      ]
     },
     "metadata": {},
     "output_type": "display_data"
    },
    {
     "data": {
      "text/plain": [
       "[None, None, None, None, None, None]"
      ]
     },
     "execution_count": 6,
     "metadata": {},
     "output_type": "execute_result"
    }
   ],
   "source": [
    "from IPython.display import display\n",
    "list(display(k,v.sample(5)) for k,v in data.items())"
   ]
  },
  {
   "cell_type": "markdown",
   "metadata": {},
   "source": [
    "## Model on rating"
   ]
  },
  {
   "cell_type": "code",
   "execution_count": 7,
   "metadata": {},
   "outputs": [
    {
     "data": {
      "text/html": [
       "<div>\n",
       "<style scoped>\n",
       "    .dataframe tbody tr th:only-of-type {\n",
       "        vertical-align: middle;\n",
       "    }\n",
       "\n",
       "    .dataframe tbody tr th {\n",
       "        vertical-align: top;\n",
       "    }\n",
       "\n",
       "    .dataframe thead th {\n",
       "        text-align: right;\n",
       "    }\n",
       "</style>\n",
       "<table border=\"1\" class=\"dataframe\">\n",
       "  <thead>\n",
       "    <tr style=\"text-align: right;\">\n",
       "      <th></th>\n",
       "      <th>userId</th>\n",
       "      <th>movieId</th>\n",
       "      <th>rating</th>\n",
       "      <th>timestamp</th>\n",
       "    </tr>\n",
       "  </thead>\n",
       "  <tbody>\n",
       "    <tr>\n",
       "      <th>13422041</th>\n",
       "      <td>92757</td>\n",
       "      <td>4896</td>\n",
       "      <td>3.5</td>\n",
       "      <td>1276129129</td>\n",
       "    </tr>\n",
       "    <tr>\n",
       "      <th>5843040</th>\n",
       "      <td>40202</td>\n",
       "      <td>5292</td>\n",
       "      <td>4.0</td>\n",
       "      <td>1028334306</td>\n",
       "    </tr>\n",
       "    <tr>\n",
       "      <th>11683662</th>\n",
       "      <td>80680</td>\n",
       "      <td>736</td>\n",
       "      <td>3.0</td>\n",
       "      <td>859224474</td>\n",
       "    </tr>\n",
       "    <tr>\n",
       "      <th>9805859</th>\n",
       "      <td>67776</td>\n",
       "      <td>592</td>\n",
       "      <td>4.0</td>\n",
       "      <td>1318540169</td>\n",
       "    </tr>\n",
       "    <tr>\n",
       "      <th>5566378</th>\n",
       "      <td>38260</td>\n",
       "      <td>6870</td>\n",
       "      <td>3.5</td>\n",
       "      <td>1134416481</td>\n",
       "    </tr>\n",
       "  </tbody>\n",
       "</table>\n",
       "</div>"
      ],
      "text/plain": [
       "          userId  movieId  rating   timestamp\n",
       "13422041   92757     4896     3.5  1276129129\n",
       "5843040    40202     5292     4.0  1028334306\n",
       "11683662   80680      736     3.0   859224474\n",
       "9805859    67776      592     4.0  1318540169\n",
       "5566378    38260     6870     3.5  1134416481"
      ]
     },
     "execution_count": 7,
     "metadata": {},
     "output_type": "execute_result"
    }
   ],
   "source": [
    "data[\"ratings\"].sample(5)"
   ]
  },
  {
   "cell_type": "code",
   "execution_count": 8,
   "metadata": {},
   "outputs": [
    {
     "data": {
      "text/plain": [
       "20000263"
      ]
     },
     "execution_count": 8,
     "metadata": {},
     "output_type": "execute_result"
    }
   ],
   "source": [
    "len(data[\"ratings\"])"
   ]
  },
  {
   "cell_type": "code",
   "execution_count": 9,
   "metadata": {},
   "outputs": [
    {
     "name": "stdout",
     "output_type": "stream",
     "text": [
      "138493 26744\n"
     ]
    }
   ],
   "source": [
    "userId = list(set(data[\"ratings\"][\"userId\"]))\n",
    "movieId = list(set(data[\"ratings\"][\"movieId\"]))\n",
    "print(len(userId),len(movieId))"
   ]
  },
  {
   "cell_type": "markdown",
   "metadata": {},
   "source": [
    "### Mapping\n",
    "user to index, movie to index, index to user, index to movie"
   ]
  },
  {
   "cell_type": "code",
   "execution_count": 10,
   "metadata": {
    "collapsed": true
   },
   "outputs": [],
   "source": [
    "u2i = dict((v,k) for k,v in enumerate(userId))\n",
    "m2i = dict((v,k) for k,v in enumerate(movieId))\n",
    "i2u = dict((k,v) for k,v in enumerate(userId))\n",
    "i2m = dict((k,v) for k,v in enumerate(movieId))"
   ]
  },
  {
   "cell_type": "code",
   "execution_count": 11,
   "metadata": {
    "collapsed": true
   },
   "outputs": [],
   "source": [
    "from torch.utils.data import DataLoader,Dataset"
   ]
  },
  {
   "cell_type": "markdown",
   "metadata": {},
   "source": [
    "### Separate train/valid dataset"
   ]
  },
  {
   "cell_type": "code",
   "execution_count": 13,
   "metadata": {
    "collapsed": true
   },
   "outputs": [],
   "source": [
    "train_pick = np.random.rand(len(data[\"ratings\"]))>.2\n",
    "valid_pick = ~train_pick"
   ]
  },
  {
   "cell_type": "code",
   "execution_count": 14,
   "metadata": {},
   "outputs": [
    {
     "data": {
      "text/plain": [
       "(array([False,  True,  True, ...,  True,  True,  True]),\n",
       " array([ True, False, False, ..., False, False, False]))"
      ]
     },
     "execution_count": 14,
     "metadata": {},
     "output_type": "execute_result"
    }
   ],
   "source": [
    "train_pick,valid_pick"
   ]
  },
  {
   "cell_type": "code",
   "execution_count": 15,
   "metadata": {},
   "outputs": [],
   "source": [
    "train_df = data[\"ratings\"][train_pick].reset_index()\n",
    "valid_df = data[\"ratings\"][valid_pick].reset_index()"
   ]
  },
  {
   "cell_type": "markdown",
   "metadata": {},
   "source": [
    "### Data generator"
   ]
  },
  {
   "cell_type": "code",
   "execution_count": 16,
   "metadata": {},
   "outputs": [],
   "source": [
    "class reco_data(Dataset):\n",
    "    def __init__(self,df):\n",
    "        self.df=df\n",
    "        \n",
    "    def __len__(self):\n",
    "        return len(self.df)\n",
    "    \n",
    "    def __getitem__(self,idx):\n",
    "        row = self.df.loc[idx]\n",
    "        return u2i[int(row[\"userId\"])],m2i[int(row[\"movieId\"])],row[\"rating\"]/5"
   ]
  },
  {
   "cell_type": "code",
   "execution_count": 17,
   "metadata": {
    "collapsed": true
   },
   "outputs": [],
   "source": [
    "train = reco_data(train_df)\n",
    "valid = reco_data(valid_df)"
   ]
  },
  {
   "cell_type": "markdown",
   "metadata": {},
   "source": [
    "## Basic Cross Filtering"
   ]
  },
  {
   "cell_type": "code",
   "execution_count": 18,
   "metadata": {
    "collapsed": true
   },
   "outputs": [],
   "source": [
    "from torch import nn"
   ]
  },
  {
   "cell_type": "code",
   "execution_count": 19,
   "metadata": {
    "collapsed": true
   },
   "outputs": [],
   "source": [
    "class embeddings(nn.Module):\n",
    "    def __init__(self):\n",
    "        super(embeddings,self).__init__()\n",
    "        self.emb_u = nn.Embedding(len(userId), DIM)\n",
    "        self.emb_m = nn.Embedding(len(movieId), DIM)\n",
    "        \n",
    "    def forward(self,u,m):\n",
    "        return self.emb_u(u),self.emb_m(m)"
   ]
  },
  {
   "cell_type": "code",
   "execution_count": 20,
   "metadata": {
    "collapsed": true
   },
   "outputs": [],
   "source": [
    "class cf(nn.Module):\n",
    "    def __init__(self):\n",
    "        super(cf,self).__init__()\n",
    "        self.ebd = embeddings()\n",
    "    \n",
    "    def forward(self,u,m):\n",
    "        u_vec,m_vec = self.ebd(u,m)\n",
    "        return u_vec * m_vec\n",
    "    \n",
    "class cfnn(nn.Module):\n",
    "    def __init__(self):\n",
    "        super(cfnn,self).__init__()\n",
    "        self.cf = cf()\n",
    "        self.fcb = nn.Sequential(*[nn.Linear(DIM,512,bias=False),\n",
    "                                   nn.BatchNorm1d(512),\n",
    "                                   nn.LeakyReLU(inplace=True),\n",
    "                                   nn.Linear(512,1,bias=False),\n",
    "                                   nn.BatchNorm1d(1),\n",
    "                                   nn.Sigmoid()\n",
    "                                  ],\n",
    "                                )\n",
    "    \n",
    "    def forward(self,u,m):\n",
    "        x = self.cf(u,m)\n",
    "        return self.fcb(x)"
   ]
  },
  {
   "cell_type": "code",
   "execution_count": 21,
   "metadata": {},
   "outputs": [],
   "source": [
    "cfmodel = cfnn()"
   ]
  },
  {
   "cell_type": "code",
   "execution_count": 22,
   "metadata": {
    "collapsed": true
   },
   "outputs": [],
   "source": [
    "from torch.optim import Adam\n",
    "mse = nn.MSELoss()\n",
    "opt = Adam(cfmodel.parameters(),amsgrad=True)\n",
    "if CUDA:\n",
    "    cfmodel.cuda()"
   ]
  },
  {
   "cell_type": "markdown",
   "metadata": {},
   "source": [
    "Step function for train and valid"
   ]
  },
  {
   "cell_type": "code",
   "execution_count": null,
   "metadata": {
    "collapsed": true
   },
   "outputs": [],
   "source": [
    "def action(*args,**kwargs):\n",
    "    u,m,y = args[0]\n",
    "    opt.zero_grad()\n",
    "    if CUDA:\n",
    "        u,m,y  = u.cuda(),m.cuda(),y.cuda()\n",
    "        \n",
    "    y_ = cfmodel(u,m) # prediction\n",
    "    \n",
    "    loss = mse(y_,y.unsqueeze(-1).float())\n",
    "    \n",
    "    loss.backward()\n",
    "    opt.step()\n",
    "    \n",
    "    return {\"mse\":loss.item()}\n",
    "\n",
    "def val_action(*args,**kwargs):\n",
    "    u,m,y = args[0]\n",
    "    y_ = cfmodel(u,m)\n",
    "    loss = mse(y_,y)\n",
    "    \n",
    "    return {\"mse\":loss.item()}"
   ]
  },
  {
   "cell_type": "code",
   "execution_count": 25,
   "metadata": {
    "collapsed": true
   },
   "outputs": [],
   "source": [
    "trainer = Trainer(train, val_dataset=valid, batch_size=BS, print_on = 5)\n",
    "\n",
    "trainer.action = action\n",
    "trainer.val_action = val_action"
   ]
  },
  {
   "cell_type": "code",
   "execution_count": null,
   "metadata": {},
   "outputs": [
    {
     "name": "stderr",
     "output_type": "stream",
     "text": [
      "⭐[ep_0_i_674]\tmse\t0.050:   8%|▊         | 675/8000 [11:06<2:00:29,  1.01it/s]"
     ]
    }
   ],
   "source": [
    "trainer.train(1)"
   ]
  },
  {
   "cell_type": "code",
   "execution_count": null,
   "metadata": {
    "collapsed": true
   },
   "outputs": [],
   "source": []
  }
 ],
 "metadata": {
  "kernelspec": {
   "display_name": "Python 3",
   "language": "python",
   "name": "python3"
  }
 },
 "nbformat": 4,
 "nbformat_minor": 2
}
